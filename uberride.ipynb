{
 "cells": [
  {
   "cell_type": "code",
   "execution_count": 1,
   "metadata": {
    "_cell_guid": "b1076dfc-b9ad-4769-8c92-a6c4dae69d19",
    "_uuid": "8f2839f25d086af736a60e9eeb907d3b93b6e0e5",
    "execution": {
     "iopub.execute_input": "2022-11-15T19:04:48.451427Z",
     "iopub.status.busy": "2022-11-15T19:04:48.451026Z",
     "iopub.status.idle": "2022-11-15T19:04:48.466469Z",
     "shell.execute_reply": "2022-11-15T19:04:48.465352Z",
     "shell.execute_reply.started": "2022-11-15T19:04:48.451395Z"
    }
   },
   "outputs": [],
   "source": [
    "# This Python 3 environment comes with many helpful analytics libraries installed\n",
    "# It is defined by the kaggle/python Docker image: https://github.com/kaggle/docker-python\n",
    "# For example, here's several helpful packages to load\n",
    "\n",
    "import numpy as np # linear algebra\n",
    "import pandas as pd # data processing, CSV file I/O (e.g. pd.read_csv)\n",
    "\n",
    "# Input data files are available in the read-only \"../input/\" directory\n",
    "# For example, running this (by clicking run or pressing Shift+Enter) will list all files under the input directory\n",
    "\n",
    "import os\n",
    "for dirname, _, filenames in os.walk('/kaggle/input'):\n",
    "    for filename in filenames:\n",
    "        print(os.path.join(dirname, filename))\n",
    "\n",
    "# You can write up to 20GB to the current directory (/kaggle/working/) that gets preserved as output when you create a version using \"Save & Run All\" \n",
    "# You can also write temporary files to /kaggle/temp/, but they won't be saved outside of the current session"
   ]
  },
  {
   "cell_type": "code",
   "execution_count": 2,
   "metadata": {
    "execution": {
     "iopub.execute_input": "2022-11-15T19:04:48.469853Z",
     "iopub.status.busy": "2022-11-15T19:04:48.468541Z",
     "iopub.status.idle": "2022-11-15T19:04:48.475624Z",
     "shell.execute_reply": "2022-11-15T19:04:48.474729Z",
     "shell.execute_reply.started": "2022-11-15T19:04:48.469811Z"
    }
   },
   "outputs": [],
   "source": [
    "import numpy as np\n",
    "import pandas as pd"
   ]
  },
  {
   "cell_type": "code",
   "execution_count": 3,
   "metadata": {
    "execution": {
     "iopub.execute_input": "2022-11-15T19:04:48.478263Z",
     "iopub.status.busy": "2022-11-15T19:04:48.477160Z",
     "iopub.status.idle": "2022-11-15T19:04:48.984215Z",
     "shell.execute_reply": "2022-11-15T19:04:48.982891Z",
     "shell.execute_reply.started": "2022-11-15T19:04:48.478213Z"
    }
   },
   "outputs": [],
   "source": [
    "pd = pd.read_csv('uber.csv')"
   ]
  },
  {
   "cell_type": "code",
   "execution_count": 4,
   "metadata": {
    "execution": {
     "iopub.execute_input": "2022-11-15T19:04:48.988891Z",
     "iopub.status.busy": "2022-11-15T19:04:48.988356Z",
     "iopub.status.idle": "2022-11-15T19:04:49.025919Z",
     "shell.execute_reply": "2022-11-15T19:04:49.024563Z",
     "shell.execute_reply.started": "2022-11-15T19:04:48.988852Z"
    }
   },
   "outputs": [
    {
     "name": "stdout",
     "output_type": "stream",
     "text": [
      "<class 'pandas.core.frame.DataFrame'>\n",
      "RangeIndex: 200000 entries, 0 to 199999\n",
      "Data columns (total 9 columns):\n",
      " #   Column             Non-Null Count   Dtype  \n",
      "---  ------             --------------   -----  \n",
      " 0   Unnamed: 0         200000 non-null  int64  \n",
      " 1   key                200000 non-null  object \n",
      " 2   fare_amount        200000 non-null  float64\n",
      " 3   pickup_datetime    200000 non-null  object \n",
      " 4   pickup_longitude   200000 non-null  float64\n",
      " 5   pickup_latitude    200000 non-null  float64\n",
      " 6   dropoff_longitude  199999 non-null  float64\n",
      " 7   dropoff_latitude   199999 non-null  float64\n",
      " 8   passenger_count    200000 non-null  int64  \n",
      "dtypes: float64(5), int64(2), object(2)\n",
      "memory usage: 13.7+ MB\n"
     ]
    }
   ],
   "source": [
    "pd.info()"
   ]
  },
  {
   "cell_type": "code",
   "execution_count": 5,
   "metadata": {
    "execution": {
     "iopub.execute_input": "2022-11-15T19:04:49.029070Z",
     "iopub.status.busy": "2022-11-15T19:04:49.028271Z",
     "iopub.status.idle": "2022-11-15T19:04:49.047698Z",
     "shell.execute_reply": "2022-11-15T19:04:49.046371Z",
     "shell.execute_reply.started": "2022-11-15T19:04:49.029020Z"
    }
   },
   "outputs": [
    {
     "data": {
      "text/html": [
       "<div>\n",
       "<style scoped>\n",
       "    .dataframe tbody tr th:only-of-type {\n",
       "        vertical-align: middle;\n",
       "    }\n",
       "\n",
       "    .dataframe tbody tr th {\n",
       "        vertical-align: top;\n",
       "    }\n",
       "\n",
       "    .dataframe thead th {\n",
       "        text-align: right;\n",
       "    }\n",
       "</style>\n",
       "<table border=\"1\" class=\"dataframe\">\n",
       "  <thead>\n",
       "    <tr style=\"text-align: right;\">\n",
       "      <th></th>\n",
       "      <th>Unnamed: 0</th>\n",
       "      <th>key</th>\n",
       "      <th>fare_amount</th>\n",
       "      <th>pickup_datetime</th>\n",
       "      <th>pickup_longitude</th>\n",
       "      <th>pickup_latitude</th>\n",
       "      <th>dropoff_longitude</th>\n",
       "      <th>dropoff_latitude</th>\n",
       "      <th>passenger_count</th>\n",
       "    </tr>\n",
       "  </thead>\n",
       "  <tbody>\n",
       "    <tr>\n",
       "      <th>0</th>\n",
       "      <td>24238194</td>\n",
       "      <td>2015-05-07 19:52:06.0000003</td>\n",
       "      <td>7.5</td>\n",
       "      <td>2015-05-07 19:52:06 UTC</td>\n",
       "      <td>-73.999817</td>\n",
       "      <td>40.738354</td>\n",
       "      <td>-73.999512</td>\n",
       "      <td>40.723217</td>\n",
       "      <td>1</td>\n",
       "    </tr>\n",
       "    <tr>\n",
       "      <th>1</th>\n",
       "      <td>27835199</td>\n",
       "      <td>2009-07-17 20:04:56.0000002</td>\n",
       "      <td>7.7</td>\n",
       "      <td>2009-07-17 20:04:56 UTC</td>\n",
       "      <td>-73.994355</td>\n",
       "      <td>40.728225</td>\n",
       "      <td>-73.994710</td>\n",
       "      <td>40.750325</td>\n",
       "      <td>1</td>\n",
       "    </tr>\n",
       "    <tr>\n",
       "      <th>2</th>\n",
       "      <td>44984355</td>\n",
       "      <td>2009-08-24 21:45:00.00000061</td>\n",
       "      <td>12.9</td>\n",
       "      <td>2009-08-24 21:45:00 UTC</td>\n",
       "      <td>-74.005043</td>\n",
       "      <td>40.740770</td>\n",
       "      <td>-73.962565</td>\n",
       "      <td>40.772647</td>\n",
       "      <td>1</td>\n",
       "    </tr>\n",
       "    <tr>\n",
       "      <th>3</th>\n",
       "      <td>25894730</td>\n",
       "      <td>2009-06-26 08:22:21.0000001</td>\n",
       "      <td>5.3</td>\n",
       "      <td>2009-06-26 08:22:21 UTC</td>\n",
       "      <td>-73.976124</td>\n",
       "      <td>40.790844</td>\n",
       "      <td>-73.965316</td>\n",
       "      <td>40.803349</td>\n",
       "      <td>3</td>\n",
       "    </tr>\n",
       "    <tr>\n",
       "      <th>4</th>\n",
       "      <td>17610152</td>\n",
       "      <td>2014-08-28 17:47:00.000000188</td>\n",
       "      <td>16.0</td>\n",
       "      <td>2014-08-28 17:47:00 UTC</td>\n",
       "      <td>-73.925023</td>\n",
       "      <td>40.744085</td>\n",
       "      <td>-73.973082</td>\n",
       "      <td>40.761247</td>\n",
       "      <td>5</td>\n",
       "    </tr>\n",
       "    <tr>\n",
       "      <th>5</th>\n",
       "      <td>44470845</td>\n",
       "      <td>2011-02-12 02:27:09.0000006</td>\n",
       "      <td>4.9</td>\n",
       "      <td>2011-02-12 02:27:09 UTC</td>\n",
       "      <td>-73.969019</td>\n",
       "      <td>40.755910</td>\n",
       "      <td>-73.969019</td>\n",
       "      <td>40.755910</td>\n",
       "      <td>1</td>\n",
       "    </tr>\n",
       "    <tr>\n",
       "      <th>6</th>\n",
       "      <td>48725865</td>\n",
       "      <td>2014-10-12 07:04:00.0000002</td>\n",
       "      <td>24.5</td>\n",
       "      <td>2014-10-12 07:04:00 UTC</td>\n",
       "      <td>-73.961447</td>\n",
       "      <td>40.693965</td>\n",
       "      <td>-73.871195</td>\n",
       "      <td>40.774297</td>\n",
       "      <td>5</td>\n",
       "    </tr>\n",
       "    <tr>\n",
       "      <th>7</th>\n",
       "      <td>44195482</td>\n",
       "      <td>2012-12-11 13:52:00.00000029</td>\n",
       "      <td>2.5</td>\n",
       "      <td>2012-12-11 13:52:00 UTC</td>\n",
       "      <td>0.000000</td>\n",
       "      <td>0.000000</td>\n",
       "      <td>0.000000</td>\n",
       "      <td>0.000000</td>\n",
       "      <td>1</td>\n",
       "    </tr>\n",
       "    <tr>\n",
       "      <th>8</th>\n",
       "      <td>15822268</td>\n",
       "      <td>2012-02-17 09:32:00.00000043</td>\n",
       "      <td>9.7</td>\n",
       "      <td>2012-02-17 09:32:00 UTC</td>\n",
       "      <td>-73.975187</td>\n",
       "      <td>40.745767</td>\n",
       "      <td>-74.002720</td>\n",
       "      <td>40.743537</td>\n",
       "      <td>1</td>\n",
       "    </tr>\n",
       "    <tr>\n",
       "      <th>9</th>\n",
       "      <td>50611056</td>\n",
       "      <td>2012-03-29 19:06:00.000000273</td>\n",
       "      <td>12.5</td>\n",
       "      <td>2012-03-29 19:06:00 UTC</td>\n",
       "      <td>-74.001065</td>\n",
       "      <td>40.741787</td>\n",
       "      <td>-73.963040</td>\n",
       "      <td>40.775012</td>\n",
       "      <td>1</td>\n",
       "    </tr>\n",
       "  </tbody>\n",
       "</table>\n",
       "</div>"
      ],
      "text/plain": [
       "   Unnamed: 0                            key  fare_amount  \\\n",
       "0    24238194    2015-05-07 19:52:06.0000003          7.5   \n",
       "1    27835199    2009-07-17 20:04:56.0000002          7.7   \n",
       "2    44984355   2009-08-24 21:45:00.00000061         12.9   \n",
       "3    25894730    2009-06-26 08:22:21.0000001          5.3   \n",
       "4    17610152  2014-08-28 17:47:00.000000188         16.0   \n",
       "5    44470845    2011-02-12 02:27:09.0000006          4.9   \n",
       "6    48725865    2014-10-12 07:04:00.0000002         24.5   \n",
       "7    44195482   2012-12-11 13:52:00.00000029          2.5   \n",
       "8    15822268   2012-02-17 09:32:00.00000043          9.7   \n",
       "9    50611056  2012-03-29 19:06:00.000000273         12.5   \n",
       "\n",
       "           pickup_datetime  pickup_longitude  pickup_latitude  \\\n",
       "0  2015-05-07 19:52:06 UTC        -73.999817        40.738354   \n",
       "1  2009-07-17 20:04:56 UTC        -73.994355        40.728225   \n",
       "2  2009-08-24 21:45:00 UTC        -74.005043        40.740770   \n",
       "3  2009-06-26 08:22:21 UTC        -73.976124        40.790844   \n",
       "4  2014-08-28 17:47:00 UTC        -73.925023        40.744085   \n",
       "5  2011-02-12 02:27:09 UTC        -73.969019        40.755910   \n",
       "6  2014-10-12 07:04:00 UTC        -73.961447        40.693965   \n",
       "7  2012-12-11 13:52:00 UTC          0.000000         0.000000   \n",
       "8  2012-02-17 09:32:00 UTC        -73.975187        40.745767   \n",
       "9  2012-03-29 19:06:00 UTC        -74.001065        40.741787   \n",
       "\n",
       "   dropoff_longitude  dropoff_latitude  passenger_count  \n",
       "0         -73.999512         40.723217                1  \n",
       "1         -73.994710         40.750325                1  \n",
       "2         -73.962565         40.772647                1  \n",
       "3         -73.965316         40.803349                3  \n",
       "4         -73.973082         40.761247                5  \n",
       "5         -73.969019         40.755910                1  \n",
       "6         -73.871195         40.774297                5  \n",
       "7           0.000000          0.000000                1  \n",
       "8         -74.002720         40.743537                1  \n",
       "9         -73.963040         40.775012                1  "
      ]
     },
     "execution_count": 5,
     "metadata": {},
     "output_type": "execute_result"
    }
   ],
   "source": [
    "pd.head(10)"
   ]
  },
  {
   "cell_type": "code",
   "execution_count": 6,
   "metadata": {
    "execution": {
     "iopub.execute_input": "2022-11-15T19:04:49.050269Z",
     "iopub.status.busy": "2022-11-15T19:04:49.049488Z",
     "iopub.status.idle": "2022-11-15T19:04:49.086806Z",
     "shell.execute_reply": "2022-11-15T19:04:49.085535Z",
     "shell.execute_reply.started": "2022-11-15T19:04:49.050221Z"
    }
   },
   "outputs": [
    {
     "data": {
      "text/plain": [
       "Unnamed: 0           0\n",
       "key                  0\n",
       "fare_amount          0\n",
       "pickup_datetime      0\n",
       "pickup_longitude     0\n",
       "pickup_latitude      0\n",
       "dropoff_longitude    1\n",
       "dropoff_latitude     1\n",
       "passenger_count      0\n",
       "dtype: int64"
      ]
     },
     "execution_count": 6,
     "metadata": {},
     "output_type": "execute_result"
    }
   ],
   "source": [
    "pd.isnull().sum()"
   ]
  },
  {
   "cell_type": "code",
   "execution_count": 7,
   "metadata": {
    "execution": {
     "iopub.execute_input": "2022-11-15T19:04:49.089531Z",
     "iopub.status.busy": "2022-11-15T19:04:49.088418Z",
     "iopub.status.idle": "2022-11-15T19:04:49.097425Z",
     "shell.execute_reply": "2022-11-15T19:04:49.096382Z",
     "shell.execute_reply.started": "2022-11-15T19:04:49.089492Z"
    }
   },
   "outputs": [],
   "source": [
    "pd['dropoff_longitude'].fillna(pd['dropoff_longitude'].mean(),inplace=True)"
   ]
  },
  {
   "cell_type": "code",
   "execution_count": 8,
   "metadata": {
    "execution": {
     "iopub.execute_input": "2022-11-15T19:04:49.099528Z",
     "iopub.status.busy": "2022-11-15T19:04:49.098815Z",
     "iopub.status.idle": "2022-11-15T19:04:49.110266Z",
     "shell.execute_reply": "2022-11-15T19:04:49.109170Z",
     "shell.execute_reply.started": "2022-11-15T19:04:49.099489Z"
    }
   },
   "outputs": [],
   "source": [
    "pd['dropoff_latitude'].fillna(pd['dropoff_latitude'].mean(),inplace=True)"
   ]
  },
  {
   "cell_type": "code",
   "execution_count": 9,
   "metadata": {
    "execution": {
     "iopub.execute_input": "2022-11-15T19:04:49.112437Z",
     "iopub.status.busy": "2022-11-15T19:04:49.111703Z",
     "iopub.status.idle": "2022-11-15T19:04:49.126657Z",
     "shell.execute_reply": "2022-11-15T19:04:49.125212Z",
     "shell.execute_reply.started": "2022-11-15T19:04:49.112391Z"
    }
   },
   "outputs": [],
   "source": [
    "x = pd[['pickup_longitude','pickup_latitude','dropoff_longitude','dropoff_latitude']]\n",
    "y = pd['fare_amount']"
   ]
  },
  {
   "cell_type": "code",
   "execution_count": 10,
   "metadata": {
    "execution": {
     "iopub.execute_input": "2022-11-15T19:04:49.131458Z",
     "iopub.status.busy": "2022-11-15T19:04:49.131010Z",
     "iopub.status.idle": "2022-11-15T19:04:49.137813Z",
     "shell.execute_reply": "2022-11-15T19:04:49.136518Z",
     "shell.execute_reply.started": "2022-11-15T19:04:49.131420Z"
    }
   },
   "outputs": [],
   "source": [
    "from sklearn.linear_model import LinearRegression\n",
    "from sklearn.model_selection import train_test_split"
   ]
  },
  {
   "cell_type": "code",
   "execution_count": 11,
   "metadata": {
    "execution": {
     "iopub.execute_input": "2022-11-15T19:04:49.139524Z",
     "iopub.status.busy": "2022-11-15T19:04:49.139188Z",
     "iopub.status.idle": "2022-11-15T19:04:49.177613Z",
     "shell.execute_reply": "2022-11-15T19:04:49.176411Z",
     "shell.execute_reply.started": "2022-11-15T19:04:49.139495Z"
    }
   },
   "outputs": [],
   "source": [
    "x_train, x_test, y_train, y_test = train_test_split(x, y, test_size=0.30)"
   ]
  },
  {
   "cell_type": "code",
   "execution_count": 12,
   "metadata": {
    "execution": {
     "iopub.execute_input": "2022-11-15T19:04:49.179566Z",
     "iopub.status.busy": "2022-11-15T19:04:49.179189Z",
     "iopub.status.idle": "2022-11-15T19:04:49.185181Z",
     "shell.execute_reply": "2022-11-15T19:04:49.183737Z",
     "shell.execute_reply.started": "2022-11-15T19:04:49.179533Z"
    }
   },
   "outputs": [],
   "source": [
    "from sklearn.preprocessing import StandardScaler"
   ]
  },
  {
   "cell_type": "code",
   "execution_count": 13,
   "metadata": {
    "execution": {
     "iopub.execute_input": "2022-11-15T19:04:49.187099Z",
     "iopub.status.busy": "2022-11-15T19:04:49.186736Z",
     "iopub.status.idle": "2022-11-15T19:04:49.196316Z",
     "shell.execute_reply": "2022-11-15T19:04:49.194920Z",
     "shell.execute_reply.started": "2022-11-15T19:04:49.187068Z"
    }
   },
   "outputs": [],
   "source": [
    "scaler = StandardScaler()"
   ]
  },
  {
   "cell_type": "code",
   "execution_count": 14,
   "metadata": {
    "execution": {
     "iopub.execute_input": "2022-11-15T19:04:49.198347Z",
     "iopub.status.busy": "2022-11-15T19:04:49.197877Z",
     "iopub.status.idle": "2022-11-15T19:04:49.226841Z",
     "shell.execute_reply": "2022-11-15T19:04:49.225489Z",
     "shell.execute_reply.started": "2022-11-15T19:04:49.198311Z"
    }
   },
   "outputs": [],
   "source": [
    "x_train = scaler.fit_transform(x_train)\n",
    "x_test = scaler.fit_transform(x_test)"
   ]
  },
  {
   "cell_type": "code",
   "execution_count": 15,
   "metadata": {
    "execution": {
     "iopub.execute_input": "2022-11-15T19:04:49.228601Z",
     "iopub.status.busy": "2022-11-15T19:04:49.228239Z",
     "iopub.status.idle": "2022-11-15T19:04:49.250856Z",
     "shell.execute_reply": "2022-11-15T19:04:49.249487Z",
     "shell.execute_reply.started": "2022-11-15T19:04:49.228567Z"
    }
   },
   "outputs": [
    {
     "data": {
      "text/plain": [
       "LinearRegression()"
      ]
     },
     "execution_count": 15,
     "metadata": {},
     "output_type": "execute_result"
    }
   ],
   "source": [
    "model = LinearRegression()\n",
    "model.fit(x_train, y_train)"
   ]
  },
  {
   "cell_type": "code",
   "execution_count": 16,
   "metadata": {
    "execution": {
     "iopub.execute_input": "2022-11-15T19:04:49.253374Z",
     "iopub.status.busy": "2022-11-15T19:04:49.252384Z",
     "iopub.status.idle": "2022-11-15T19:04:49.263583Z",
     "shell.execute_reply": "2022-11-15T19:04:49.261796Z",
     "shell.execute_reply.started": "2022-11-15T19:04:49.253330Z"
    }
   },
   "outputs": [],
   "source": [
    "predictions = model.predict(x_test)"
   ]
  },
  {
   "cell_type": "code",
   "execution_count": 17,
   "metadata": {
    "execution": {
     "iopub.execute_input": "2022-11-15T19:04:49.269923Z",
     "iopub.status.busy": "2022-11-15T19:04:49.265544Z",
     "iopub.status.idle": "2022-11-15T19:04:49.286480Z",
     "shell.execute_reply": "2022-11-15T19:04:49.284795Z",
     "shell.execute_reply.started": "2022-11-15T19:04:49.269836Z"
    }
   },
   "outputs": [],
   "source": [
    "from sklearn.metrics import r2_score, mean_squared_error"
   ]
  },
  {
   "cell_type": "code",
   "execution_count": 18,
   "metadata": {
    "execution": {
     "iopub.execute_input": "2022-11-15T19:04:49.291033Z",
     "iopub.status.busy": "2022-11-15T19:04:49.289036Z",
     "iopub.status.idle": "2022-11-15T19:04:49.314621Z",
     "shell.execute_reply": "2022-11-15T19:04:49.312925Z",
     "shell.execute_reply.started": "2022-11-15T19:04:49.290950Z"
    }
   },
   "outputs": [
    {
     "name": "stdout",
     "output_type": "stream",
     "text": [
      "R2 score 7.303664572411162e-05\n",
      "Root mean squared error:  99.48239048073783\n"
     ]
    }
   ],
   "source": [
    "print(\"R2 score\", r2_score(y_test, predictions))\n",
    "print(\"Root mean squared error: \", mean_squared_error(y_test, predictions))"
   ]
  },
  {
   "cell_type": "code",
   "execution_count": null,
   "metadata": {},
   "outputs": [],
   "source": []
  }
 ],
 "metadata": {
  "kernelspec": {
   "display_name": "Python 3 (ipykernel)",
   "language": "python",
   "name": "python3"
  },
  "language_info": {
   "codemirror_mode": {
    "name": "ipython",
    "version": 3
   },
   "file_extension": ".py",
   "mimetype": "text/x-python",
   "name": "python",
   "nbconvert_exporter": "python",
   "pygments_lexer": "ipython3",
   "version": "3.9.12"
  }
 },
 "nbformat": 4,
 "nbformat_minor": 4
}
